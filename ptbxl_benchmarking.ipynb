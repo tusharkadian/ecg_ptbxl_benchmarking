{
  "nbformat": 4,
  "nbformat_minor": 0,
  "metadata": {
    "colab": {
      "provenance": [],
      "include_colab_link": true
    },
    "kernelspec": {
      "name": "python3",
      "display_name": "Python 3"
    },
    "language_info": {
      "name": "python"
    }
  },
  "cells": [
    {
      "cell_type": "markdown",
      "metadata": {
        "id": "view-in-github",
        "colab_type": "text"
      },
      "source": [
        "<a href=\"https://colab.research.google.com/github/tusharkadian/ecg_ptbxl_benchmarking/blob/master/ptbxl_benchmarking.ipynb\" target=\"_parent\"><img src=\"https://colab.research.google.com/assets/colab-badge.svg\" alt=\"Open In Colab\"/></a>"
      ]
    },
    {
      "cell_type": "markdown",
      "source": [
        "Install Dependencies"
      ],
      "metadata": {
        "id": "ar9-KRW4vAdj"
      }
    },
    {
      "cell_type": "code",
      "source": [
        "!pip install -q condacolab"
      ],
      "metadata": {
        "id": "JA3fK4PVzkm7"
      },
      "execution_count": null,
      "outputs": []
    },
    {
      "cell_type": "code",
      "source": [
        "import condacolab\n",
        "condacolab.install()\n",
        "!conda init"
      ],
      "metadata": {
        "id": "GuPNZg7Tz-pN"
      },
      "execution_count": null,
      "outputs": []
    },
    {
      "cell_type": "code",
      "execution_count": null,
      "metadata": {
        "id": "o2R7DhTQu7eL"
      },
      "outputs": [],
      "source": [
        "!conda env create -f ecg_env.yml"
      ]
    },
    {
      "cell_type": "code",
      "source": [
        "!source activate ecg_env #using this command instead\n",
        "#!conda activate ecg_env"
      ],
      "metadata": {
        "id": "UBG5O1tL7NQk"
      },
      "execution_count": null,
      "outputs": []
    },
    {
      "cell_type": "markdown",
      "source": [
        "Import Dataset"
      ],
      "metadata": {
        "id": "W2fknZDPGy_E"
      }
    },
    {
      "cell_type": "code",
      "source": [
        "#!bash ./get_datasets.sh\n",
        "\n",
        "from google.colab import drive\n",
        "drive.mount('/content/drive')\n",
        "path = '/content/drive/My Drive/PTBXL-Benchmarking/'"
      ],
      "metadata": {
        "id": "K1re3yxyG018"
      },
      "execution_count": null,
      "outputs": []
    }
  ]
}